{
  "nbformat": 4,
  "nbformat_minor": 0,
  "metadata": {
    "kernelspec": {
      "display_name": "Python 3",
      "language": "python",
      "name": "python3"
    },
    "language_info": {
      "codemirror_mode": {
        "name": "ipython",
        "version": 3
      },
      "file_extension": ".py",
      "mimetype": "text/x-python",
      "name": "python",
      "nbconvert_exporter": "python",
      "pygments_lexer": "ipython3",
      "version": "3.7.4"
    },
    "colab": {
      "name": "BERT.ipynb",
      "provenance": [],
      "collapsed_sections": [],
      "include_colab_link": true
    }
  },
  "cells": [
    {
      "cell_type": "markdown",
      "metadata": {
        "id": "view-in-github",
        "colab_type": "text"
      },
      "source": [
        "<a href=\"https://colab.research.google.com/github/Akanksha1212/BERT-Classification/blob/master/BERT.ipynb\" target=\"_parent\"><img src=\"https://colab.research.google.com/assets/colab-badge.svg\" alt=\"Open In Colab\"/></a>"
      ]
    },
    {
      "cell_type": "markdown",
      "metadata": {
        "id": "IchbrkdhTT4y",
        "colab_type": "text"
      },
      "source": [
        "Environment setup "
      ]
    },
    {
      "cell_type": "code",
      "metadata": {
        "id": "09tLuW_vTT42",
        "colab_type": "code",
        "colab": {}
      },
      "source": [
        "import pandas as pd\n",
        "import numpy as np\n",
        "import io"
      ],
      "execution_count": 39,
      "outputs": []
    },
    {
      "cell_type": "markdown",
      "metadata": {
        "id": "ukj6kgjkTT5G",
        "colab_type": "text"
      },
      "source": [
        "Import csv "
      ]
    },
    {
      "cell_type": "code",
      "metadata": {
        "id": "vqc9SQ3yTaUD",
        "colab_type": "code",
        "colab": {
          "resources": {
            "http://localhost:8080/nbextensions/google.colab/files.js": {
              "data": "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",
              "ok": true,
              "headers": [
                [
                  "content-type",
                  "application/javascript"
                ]
              ],
              "status": 200,
              "status_text": "OK"
            }
          },
          "base_uri": "https://localhost:8080/",
          "height": 78
        },
        "outputId": "31ab5fc0-5ba3-4607-ee5e-58007c272e6a"
      },
      "source": [
        "from google.colab import files\n",
        "uploaded = files.upload()"
      ],
      "execution_count": 40,
      "outputs": [
        {
          "output_type": "display_data",
          "data": {
            "text/html": [
              "\n",
              "     <input type=\"file\" id=\"files-a289081f-b62a-481f-b0d3-84baf84a4c9c\" name=\"files[]\" multiple disabled\n",
              "        style=\"border:none\" />\n",
              "     <output id=\"result-a289081f-b62a-481f-b0d3-84baf84a4c9c\">\n",
              "      Upload widget is only available when the cell has been executed in the\n",
              "      current browser session. Please rerun this cell to enable.\n",
              "      </output>\n",
              "      <script src=\"/nbextensions/google.colab/files.js\"></script> "
            ],
            "text/plain": [
              "<IPython.core.display.HTML object>"
            ]
          },
          "metadata": {
            "tags": []
          }
        },
        {
          "output_type": "stream",
          "text": [
            "Saving DF1.csv to DF1 (5).csv\n"
          ],
          "name": "stdout"
        }
      ]
    },
    {
      "cell_type": "code",
      "metadata": {
        "id": "YJpuhseuTT5M",
        "colab_type": "code",
        "colab": {}
      },
      "source": [
        "data = pd.read_csv(io.StringIO(uploaded['DF1.csv'].decode('utf-8')))"
      ],
      "execution_count": 41,
      "outputs": []
    },
    {
      "cell_type": "code",
      "metadata": {
        "id": "qaOrdgw1TT5Y",
        "colab_type": "code",
        "colab": {
          "base_uri": "https://localhost:8080/",
          "height": 206
        },
        "outputId": "7473f8d3-6042-42f7-b106-68462b000088"
      },
      "source": [
        "data.head()"
      ],
      "execution_count": 42,
      "outputs": [
        {
          "output_type": "execute_result",
          "data": {
            "text/html": [
              "<div>\n",
              "<style scoped>\n",
              "    .dataframe tbody tr th:only-of-type {\n",
              "        vertical-align: middle;\n",
              "    }\n",
              "\n",
              "    .dataframe tbody tr th {\n",
              "        vertical-align: top;\n",
              "    }\n",
              "\n",
              "    .dataframe thead th {\n",
              "        text-align: right;\n",
              "    }\n",
              "</style>\n",
              "<table border=\"1\" class=\"dataframe\">\n",
              "  <thead>\n",
              "    <tr style=\"text-align: right;\">\n",
              "      <th></th>\n",
              "      <th>Title</th>\n",
              "      <th>Category</th>\n",
              "      <th>Post Text</th>\n",
              "    </tr>\n",
              "  </thead>\n",
              "  <tbody>\n",
              "    <tr>\n",
              "      <th>0</th>\n",
              "      <td>Testing requirements in toys and games category</td>\n",
              "      <td>Amazon Custom</td>\n",
              "      <td>My product is domino sets for adults. I am the...</td>\n",
              "    </tr>\n",
              "    <tr>\n",
              "      <th>1</th>\n",
              "      <td>Food and Drug Administration</td>\n",
              "      <td>Amazon Custom</td>\n",
              "      <td>Hello, I am on my way to becoming an Amazon de...</td>\n",
              "    </tr>\n",
              "    <tr>\n",
              "      <th>2</th>\n",
              "      <td>Images Storage for mass upload</td>\n",
              "      <td>Amazon Custom</td>\n",
              "      <td>When uploading products with the spreadsheet w...</td>\n",
              "    </tr>\n",
              "    <tr>\n",
              "      <th>3</th>\n",
              "      <td>Prepaid Return Label program email clarification</td>\n",
              "      <td>Amazon Custom</td>\n",
              "      <td>You may have received an email from Amazon inf...</td>\n",
              "    </tr>\n",
              "    <tr>\n",
              "      <th>4</th>\n",
              "      <td>Pulling Amazon Custom Personalizatoin Data fro...</td>\n",
              "      <td>Amazon Custom</td>\n",
              "      <td>The problem: Currently Amazon gives you links ...</td>\n",
              "    </tr>\n",
              "  </tbody>\n",
              "</table>\n",
              "</div>"
            ],
            "text/plain": [
              "                                               Title  ...                                          Post Text\n",
              "0    Testing requirements in toys and games category  ...  My product is domino sets for adults. I am the...\n",
              "1                       Food and Drug Administration  ...  Hello, I am on my way to becoming an Amazon de...\n",
              "2                     Images Storage for mass upload  ...  When uploading products with the spreadsheet w...\n",
              "3   Prepaid Return Label program email clarification  ...  You may have received an email from Amazon inf...\n",
              "4  Pulling Amazon Custom Personalizatoin Data fro...  ...  The problem: Currently Amazon gives you links ...\n",
              "\n",
              "[5 rows x 3 columns]"
            ]
          },
          "metadata": {
            "tags": []
          },
          "execution_count": 42
        }
      ]
    },
    {
      "cell_type": "markdown",
      "metadata": {
        "id": "UFeSKwAPTT5m",
        "colab_type": "text"
      },
      "source": [
        "Make subdata and encode Category "
      ]
    },
    {
      "cell_type": "code",
      "metadata": {
        "id": "Qzia00PSTT5o",
        "colab_type": "code",
        "colab": {
          "base_uri": "https://localhost:8080/",
          "height": 206
        },
        "outputId": "e10eff85-13cc-4851-ea68-400ac163085f"
      },
      "source": [
        "subdata = data[[\"Title\", \"Category\", \"Post Text\"]]\n",
        "subdata.head()"
      ],
      "execution_count": 43,
      "outputs": [
        {
          "output_type": "execute_result",
          "data": {
            "text/html": [
              "<div>\n",
              "<style scoped>\n",
              "    .dataframe tbody tr th:only-of-type {\n",
              "        vertical-align: middle;\n",
              "    }\n",
              "\n",
              "    .dataframe tbody tr th {\n",
              "        vertical-align: top;\n",
              "    }\n",
              "\n",
              "    .dataframe thead th {\n",
              "        text-align: right;\n",
              "    }\n",
              "</style>\n",
              "<table border=\"1\" class=\"dataframe\">\n",
              "  <thead>\n",
              "    <tr style=\"text-align: right;\">\n",
              "      <th></th>\n",
              "      <th>Title</th>\n",
              "      <th>Category</th>\n",
              "      <th>Post Text</th>\n",
              "    </tr>\n",
              "  </thead>\n",
              "  <tbody>\n",
              "    <tr>\n",
              "      <th>0</th>\n",
              "      <td>Testing requirements in toys and games category</td>\n",
              "      <td>Amazon Custom</td>\n",
              "      <td>My product is domino sets for adults. I am the...</td>\n",
              "    </tr>\n",
              "    <tr>\n",
              "      <th>1</th>\n",
              "      <td>Food and Drug Administration</td>\n",
              "      <td>Amazon Custom</td>\n",
              "      <td>Hello, I am on my way to becoming an Amazon de...</td>\n",
              "    </tr>\n",
              "    <tr>\n",
              "      <th>2</th>\n",
              "      <td>Images Storage for mass upload</td>\n",
              "      <td>Amazon Custom</td>\n",
              "      <td>When uploading products with the spreadsheet w...</td>\n",
              "    </tr>\n",
              "    <tr>\n",
              "      <th>3</th>\n",
              "      <td>Prepaid Return Label program email clarification</td>\n",
              "      <td>Amazon Custom</td>\n",
              "      <td>You may have received an email from Amazon inf...</td>\n",
              "    </tr>\n",
              "    <tr>\n",
              "      <th>4</th>\n",
              "      <td>Pulling Amazon Custom Personalizatoin Data fro...</td>\n",
              "      <td>Amazon Custom</td>\n",
              "      <td>The problem: Currently Amazon gives you links ...</td>\n",
              "    </tr>\n",
              "  </tbody>\n",
              "</table>\n",
              "</div>"
            ],
            "text/plain": [
              "                                               Title  ...                                          Post Text\n",
              "0    Testing requirements in toys and games category  ...  My product is domino sets for adults. I am the...\n",
              "1                       Food and Drug Administration  ...  Hello, I am on my way to becoming an Amazon de...\n",
              "2                     Images Storage for mass upload  ...  When uploading products with the spreadsheet w...\n",
              "3   Prepaid Return Label program email clarification  ...  You may have received an email from Amazon inf...\n",
              "4  Pulling Amazon Custom Personalizatoin Data fro...  ...  The problem: Currently Amazon gives you links ...\n",
              "\n",
              "[5 rows x 3 columns]"
            ]
          },
          "metadata": {
            "tags": []
          },
          "execution_count": 43
        }
      ]
    },
    {
      "cell_type": "code",
      "metadata": {
        "id": "f0V3zXhTTT51",
        "colab_type": "code",
        "colab": {
          "base_uri": "https://localhost:8080/",
          "height": 206
        },
        "outputId": "24941aa6-a2ce-4097-a36b-7c50938cb13e"
      },
      "source": [
        "subdata['Category'] = subdata['Category'].astype('category')\n",
        "subdata['Label'] = subdata['Category'].cat.codes.astype('int32')\n",
        "subdata.sample(5)"
      ],
      "execution_count": 45,
      "outputs": [
        {
          "output_type": "execute_result",
          "data": {
            "text/html": [
              "<div>\n",
              "<style scoped>\n",
              "    .dataframe tbody tr th:only-of-type {\n",
              "        vertical-align: middle;\n",
              "    }\n",
              "\n",
              "    .dataframe tbody tr th {\n",
              "        vertical-align: top;\n",
              "    }\n",
              "\n",
              "    .dataframe thead th {\n",
              "        text-align: right;\n",
              "    }\n",
              "</style>\n",
              "<table border=\"1\" class=\"dataframe\">\n",
              "  <thead>\n",
              "    <tr style=\"text-align: right;\">\n",
              "      <th></th>\n",
              "      <th>Title</th>\n",
              "      <th>Category</th>\n",
              "      <th>Post Text</th>\n",
              "      <th>Label</th>\n",
              "    </tr>\n",
              "  </thead>\n",
              "  <tbody>\n",
              "    <tr>\n",
              "      <th>1104</th>\n",
              "      <td>Amazon not accepting my POA and appeals to rea...</td>\n",
              "      <td>Account Health</td>\n",
              "      <td>Hey all. Heres the original email I received f...</td>\n",
              "      <td>0</td>\n",
              "    </tr>\n",
              "    <tr>\n",
              "      <th>953</th>\n",
              "      <td>Different Types of Inauthentic Complaints</td>\n",
              "      <td>Account Health</td>\n",
              "      <td>I do not understand the different types of Ina...</td>\n",
              "      <td>0</td>\n",
              "    </tr>\n",
              "    <tr>\n",
              "      <th>401</th>\n",
              "      <td>FBA CLT2 Warehouse, Goods delivered on Friday ...</td>\n",
              "      <td>Fulfillment By Amazon</td>\n",
              "      <td>my FBA warehouse is basically CLT2 Charlotte, ...</td>\n",
              "      <td>2</td>\n",
              "    </tr>\n",
              "    <tr>\n",
              "      <th>1418</th>\n",
              "      <td>Potential Trademark Misuse</td>\n",
              "      <td>Account Health</td>\n",
              "      <td>Hello, Looking for some advice\\nToday we recei...</td>\n",
              "      <td>0</td>\n",
              "    </tr>\n",
              "    <tr>\n",
              "      <th>975</th>\n",
              "      <td>Account Deactivated (New Seller) (Help)</td>\n",
              "      <td>Account Health</td>\n",
              "      <td>Hi everybody,\\nIm a new seller on Amazon with ...</td>\n",
              "      <td>0</td>\n",
              "    </tr>\n",
              "  </tbody>\n",
              "</table>\n",
              "</div>"
            ],
            "text/plain": [
              "                                                  Title  ... Label\n",
              "1104  Amazon not accepting my POA and appeals to rea...  ...     0\n",
              "953           Different Types of Inauthentic Complaints  ...     0\n",
              "401   FBA CLT2 Warehouse, Goods delivered on Friday ...  ...     2\n",
              "1418                         Potential Trademark Misuse  ...     0\n",
              "975             Account Deactivated (New Seller) (Help)  ...     0\n",
              "\n",
              "[5 rows x 4 columns]"
            ]
          },
          "metadata": {
            "tags": []
          },
          "execution_count": 45
        }
      ]
    },
    {
      "cell_type": "markdown",
      "metadata": {
        "id": "N67a5oFETT6A",
        "colab_type": "text"
      },
      "source": [
        "Transformer installation from HuggingFace (reload kernel after running for the first time) "
      ]
    },
    {
      "cell_type": "code",
      "metadata": {
        "id": "65Gg1PISTT6C",
        "colab_type": "code",
        "colab": {
          "base_uri": "https://localhost:8080/",
          "height": 347
        },
        "outputId": "5689bccb-5224-4adc-d33b-d1e41ea711ce"
      },
      "source": [
        "pip install transformers"
      ],
      "execution_count": 46,
      "outputs": [
        {
          "output_type": "stream",
          "text": [
            "Requirement already satisfied: transformers in /usr/local/lib/python3.6/dist-packages (3.0.0)\n",
            "Requirement already satisfied: dataclasses; python_version < \"3.7\" in /usr/local/lib/python3.6/dist-packages (from transformers) (0.7)\n",
            "Requirement already satisfied: regex!=2019.12.17 in /usr/local/lib/python3.6/dist-packages (from transformers) (2019.12.20)\n",
            "Requirement already satisfied: sacremoses in /usr/local/lib/python3.6/dist-packages (from transformers) (0.0.43)\n",
            "Requirement already satisfied: requests in /usr/local/lib/python3.6/dist-packages (from transformers) (2.23.0)\n",
            "Requirement already satisfied: tqdm>=4.27 in /usr/local/lib/python3.6/dist-packages (from transformers) (4.41.1)\n",
            "Requirement already satisfied: sentencepiece in /usr/local/lib/python3.6/dist-packages (from transformers) (0.1.91)\n",
            "Requirement already satisfied: filelock in /usr/local/lib/python3.6/dist-packages (from transformers) (3.0.12)\n",
            "Requirement already satisfied: numpy in /usr/local/lib/python3.6/dist-packages (from transformers) (1.18.5)\n",
            "Requirement already satisfied: packaging in /usr/local/lib/python3.6/dist-packages (from transformers) (20.4)\n",
            "Requirement already satisfied: tokenizers==0.8.0-rc4 in /usr/local/lib/python3.6/dist-packages (from transformers) (0.8.0rc4)\n",
            "Requirement already satisfied: joblib in /usr/local/lib/python3.6/dist-packages (from sacremoses->transformers) (0.15.1)\n",
            "Requirement already satisfied: click in /usr/local/lib/python3.6/dist-packages (from sacremoses->transformers) (7.1.2)\n",
            "Requirement already satisfied: six in /usr/local/lib/python3.6/dist-packages (from sacremoses->transformers) (1.12.0)\n",
            "Requirement already satisfied: urllib3!=1.25.0,!=1.25.1,<1.26,>=1.21.1 in /usr/local/lib/python3.6/dist-packages (from requests->transformers) (1.24.3)\n",
            "Requirement already satisfied: certifi>=2017.4.17 in /usr/local/lib/python3.6/dist-packages (from requests->transformers) (2020.6.20)\n",
            "Requirement already satisfied: chardet<4,>=3.0.2 in /usr/local/lib/python3.6/dist-packages (from requests->transformers) (3.0.4)\n",
            "Requirement already satisfied: idna<3,>=2.5 in /usr/local/lib/python3.6/dist-packages (from requests->transformers) (2.9)\n",
            "Requirement already satisfied: pyparsing>=2.0.2 in /usr/local/lib/python3.6/dist-packages (from packaging->transformers) (2.4.7)\n"
          ],
          "name": "stdout"
        }
      ]
    },
    {
      "cell_type": "code",
      "metadata": {
        "id": "FMUlnHW_TT6L",
        "colab_type": "code",
        "colab": {}
      },
      "source": [
        "# More setup  \n",
        "import torch\n",
        "import transformers as ppb\n",
        "import warnings\n",
        "warnings.filterwarnings('ignore')\n",
        "\n",
        "from sklearn.model_selection import train_test_split\n",
        "from sklearn.linear_model import LogisticRegression\n",
        "from sklearn.model_selection import GridSearchCV\n",
        "from sklearn.model_selection import cross_val_score\n",
        "\n",
        "from transformers import DistilBertTokenizer"
      ],
      "execution_count": 47,
      "outputs": []
    },
    {
      "cell_type": "markdown",
      "metadata": {
        "id": "-8seUu3STT6S",
        "colab_type": "text"
      },
      "source": [
        "#### DistilBERT "
      ]
    },
    {
      "cell_type": "code",
      "metadata": {
        "id": "kB9wtFLnTT6U",
        "colab_type": "code",
        "colab": {}
      },
      "source": [
        "# For DistilBERT:\n",
        "model_class, tokenizer_class, pretrained_weights = (ppb.DistilBertModel, ppb.DistilBertTokenizer, 'distilbert-base-uncased')\n",
        "\n",
        "# For BERT: \n",
        "# model_class, tokenizer_class, pretrained_weights = (ppb.BertModel, ppb.BertTokenizer, 'bert-base-uncased')\n",
        "\n",
        "# Load pretrained model/tokenizer\n",
        "tokenizer = tokenizer_class.from_pretrained(pretrained_weights)\n",
        "model = model_class.from_pretrained(pretrained_weights)"
      ],
      "execution_count": 48,
      "outputs": []
    },
    {
      "cell_type": "markdown",
      "metadata": {
        "id": "zSu4xEp2TT6c",
        "colab_type": "text"
      },
      "source": [
        "#### Tokenize "
      ]
    },
    {
      "cell_type": "code",
      "metadata": {
        "id": "4_EFd6d9brqY",
        "colab_type": "code",
        "colab": {}
      },
      "source": [
        "tokenized = subdata[\"Post Text\"].apply((lambda x: tokenizer.encode(x, add_special_tokens=True,truncation=True, max_length=100)))"
      ],
      "execution_count": 49,
      "outputs": []
    },
    {
      "cell_type": "code",
      "metadata": {
        "id": "EovCv4dsTT6m",
        "colab_type": "code",
        "colab": {
          "base_uri": "https://localhost:8080/",
          "height": 225
        },
        "outputId": "15770b94-938f-4209-df35-3bb56257f112"
      },
      "source": [
        "tokenized"
      ],
      "execution_count": 50,
      "outputs": [
        {
          "output_type": "execute_result",
          "data": {
            "text/plain": [
              "0       [101, 2026, 4031, 2003, 23968, 4520, 2005, 600...\n",
              "1       [101, 7592, 1010, 1045, 2572, 2006, 2026, 2126...\n",
              "2       [101, 2043, 2039, 18570, 3688, 2007, 1996, 208...\n",
              "3       [101, 2017, 2089, 2031, 2363, 2019, 10373, 201...\n",
              "4       [101, 1996, 3291, 1024, 2747, 9733, 3957, 2017...\n",
              "                              ...                        \n",
              "1810    [101, 2322, 1003, 1997, 1996, 11372, 2024, 200...\n",
              "1811    [101, 7592, 2372, 1010, 1045, 2572, 17942, 200...\n",
              "1812    [101, 2061, 1045, 2572, 1037, 2047, 14939, 199...\n",
              "1813    [101, 7632, 1010, 10047, 1037, 2047, 14939, 20...\n",
              "1814    [101, 2026, 4070, 2001, 26709, 6593, 21967, 23...\n",
              "Name: Post Text, Length: 1815, dtype: object"
            ]
          },
          "metadata": {
            "tags": []
          },
          "execution_count": 50
        }
      ]
    },
    {
      "cell_type": "markdown",
      "metadata": {
        "id": "wc8wbsPSTT6v",
        "colab_type": "text"
      },
      "source": [
        "#### Padding "
      ]
    },
    {
      "cell_type": "code",
      "metadata": {
        "id": "wyEBbVhETT6x",
        "colab_type": "code",
        "colab": {}
      },
      "source": [
        "max_len = 0\n",
        "for i in tokenized.values:\n",
        "    if len(i) > max_len:\n",
        "        max_len = len(i) # Find longest \n",
        "\n",
        "padded = np.array([i + [0]*(max_len-len(i)) for i in tokenized.values]) # Adding 0's "
      ],
      "execution_count": 51,
      "outputs": []
    },
    {
      "cell_type": "code",
      "metadata": {
        "id": "62y6pIHwTT66",
        "colab_type": "code",
        "colab": {
          "base_uri": "https://localhost:8080/",
          "height": 34
        },
        "outputId": "b14dc70f-6473-4052-b8b0-302213006f54"
      },
      "source": [
        "np.array(padded).shape"
      ],
      "execution_count": 52,
      "outputs": [
        {
          "output_type": "execute_result",
          "data": {
            "text/plain": [
              "(1815, 100)"
            ]
          },
          "metadata": {
            "tags": []
          },
          "execution_count": 52
        }
      ]
    },
    {
      "cell_type": "markdown",
      "metadata": {
        "id": "akQI5FEcTT7C",
        "colab_type": "text"
      },
      "source": [
        "#### Masking "
      ]
    },
    {
      "cell_type": "code",
      "metadata": {
        "id": "ed24ZYZmTT7E",
        "colab_type": "code",
        "colab": {
          "base_uri": "https://localhost:8080/",
          "height": 34
        },
        "outputId": "97fda40d-146b-4eed-bc58-f0ff5aa99606"
      },
      "source": [
        "attention_mask = np.where(padded != 0, 1, 0)\n",
        "attention_mask.shape"
      ],
      "execution_count": 53,
      "outputs": [
        {
          "output_type": "execute_result",
          "data": {
            "text/plain": [
              "(1815, 100)"
            ]
          },
          "metadata": {
            "tags": []
          },
          "execution_count": 53
        }
      ]
    },
    {
      "cell_type": "markdown",
      "metadata": {
        "id": "azfEgTeMTT7N",
        "colab_type": "text"
      },
      "source": [
        "#### Run through BERT "
      ]
    },
    {
      "cell_type": "code",
      "metadata": {
        "id": "G7Ng97ZnTT7O",
        "colab_type": "code",
        "colab": {}
      },
      "source": [
        "input_ids = torch.tensor(padded)  \n",
        "attention_mask = torch.tensor(attention_mask)\n",
        "\n",
        "with torch.no_grad():\n",
        "    last_hidden_states = model(input_ids, attention_mask=attention_mask)"
      ],
      "execution_count": 54,
      "outputs": []
    },
    {
      "cell_type": "code",
      "metadata": {
        "id": "gXHG-h1XTT7X",
        "colab_type": "code",
        "colab": {
          "base_uri": "https://localhost:8080/",
          "height": 1000
        },
        "outputId": "62fc5179-5402-476f-c64e-29d86a72cd75"
      },
      "source": [
        "last_hidden_states"
      ],
      "execution_count": 55,
      "outputs": [
        {
          "output_type": "execute_result",
          "data": {
            "text/plain": [
              "(tensor([[[ 1.5445e-01, -7.8006e-02,  1.9231e-01,  ..., -7.1839e-02,\n",
              "            3.2483e-01,  4.1357e-01],\n",
              "          [ 1.9706e-01, -2.0696e-01, -5.1620e-02,  ...,  3.0763e-02,\n",
              "            5.7762e-01,  4.1447e-01],\n",
              "          [-1.6024e-02, -2.9119e-01,  3.4074e-01,  ..., -1.3788e-01,\n",
              "           -1.2856e-01, -1.0083e-01],\n",
              "          ...,\n",
              "          [ 4.4683e-01, -8.6159e-02, -1.5706e-02,  ...,  1.6105e-02,\n",
              "            1.9443e-01,  4.6065e-01],\n",
              "          [ 2.2944e-01,  6.6831e-02,  1.7589e-01,  ..., -1.6872e-01,\n",
              "            2.3243e-02,  1.9865e-01],\n",
              "          [-3.5367e-01,  1.5651e-01,  9.0538e-01,  ...,  2.8317e-01,\n",
              "            2.3495e-01, -7.3744e-02]],\n",
              " \n",
              "         [[ 1.7135e-01, -1.0024e-01,  8.7762e-02,  ..., -2.9089e-02,\n",
              "            3.7860e-01,  3.9617e-01],\n",
              "          [ 9.8955e-02,  1.2467e-01,  5.6948e-01,  ...,  1.9390e-01,\n",
              "            4.9541e-01,  6.9128e-02],\n",
              "          [-5.6559e-01,  4.0507e-01,  6.6953e-01,  ..., -1.8603e-02,\n",
              "            2.6326e-01,  1.6061e-01],\n",
              "          ...,\n",
              "          [ 2.9510e-01,  3.5565e-02,  2.2043e-01,  ...,  3.3023e-02,\n",
              "            8.5508e-03, -1.1366e-01],\n",
              "          [ 2.0494e-01,  6.3144e-02,  1.4499e-01,  ...,  1.8800e-01,\n",
              "            8.1586e-03,  8.9315e-02],\n",
              "          [ 2.9463e-01,  2.8853e-02,  1.0678e-01,  ...,  4.8775e-03,\n",
              "           -1.1329e-01, -3.8941e-02]],\n",
              " \n",
              "         [[ 2.3775e-02, -2.6414e-02, -6.6116e-02,  ..., -2.4390e-01,\n",
              "            3.7091e-01,  2.5292e-01],\n",
              "          [-5.2012e-01,  3.8113e-01,  2.6612e-02,  ..., -1.6330e-01,\n",
              "            2.6203e-01, -4.8976e-02],\n",
              "          [-3.5851e-01, -1.7373e-01,  3.4369e-01,  ..., -2.0278e-01,\n",
              "            2.0874e-01, -1.4116e-01],\n",
              "          ...,\n",
              "          [-1.1633e-02, -3.8012e-03,  7.7777e-02,  ..., -1.6924e-01,\n",
              "            2.1792e-02, -3.6638e-02],\n",
              "          [-1.2195e-03, -2.2096e-02,  1.5992e-01,  ..., -8.2702e-02,\n",
              "           -7.6405e-03,  1.1032e-01],\n",
              "          [-5.2309e-02, -8.5832e-02,  2.6816e-01,  ..., -9.9487e-02,\n",
              "           -1.3629e-01,  1.8885e-01]],\n",
              " \n",
              "         ...,\n",
              " \n",
              "         [[ 2.3889e-01,  1.8323e-02, -1.2057e-02,  ..., -2.8217e-02,\n",
              "            3.3444e-01,  4.0730e-01],\n",
              "          [ 1.6462e-01, -1.0617e-01,  3.0124e-02,  ...,  1.9481e-01,\n",
              "            8.9088e-01,  3.5361e-01],\n",
              "          [ 1.4640e-01, -8.2457e-02,  1.4907e-02,  ..., -1.8963e-01,\n",
              "            5.3103e-01,  3.6014e-01],\n",
              "          ...,\n",
              "          [-6.1095e-01, -2.6116e-01,  9.7214e-02,  ...,  9.5599e-02,\n",
              "           -4.6833e-02,  1.6882e-01],\n",
              "          [-3.7898e-01, -6.8893e-03, -2.5989e-01,  ...,  4.0133e-01,\n",
              "            4.9303e-02, -3.5676e-01],\n",
              "          [ 3.9952e-01,  1.7585e-01, -1.5326e-01,  ...,  1.7166e-01,\n",
              "           -8.8283e-02, -3.3822e-01]],\n",
              " \n",
              "         [[ 1.6660e-02, -1.2574e-01,  1.6770e-01,  ...,  5.6422e-02,\n",
              "            2.8274e-01,  5.0658e-01],\n",
              "          [ 5.2912e-01, -4.2808e-02,  6.9587e-01,  ...,  2.1460e-01,\n",
              "            5.4327e-01, -1.3288e-04],\n",
              "          [-4.2525e-01,  3.0230e-01,  7.1542e-01,  ..., -6.0644e-02,\n",
              "            2.8753e-01,  4.6538e-01],\n",
              "          ...,\n",
              "          [ 3.3739e-01, -1.1777e-01,  4.1999e-01,  ..., -3.1364e-02,\n",
              "           -2.4499e-01, -2.3795e-01],\n",
              "          [ 7.0874e-03,  3.4788e-02,  2.6631e-01,  ...,  3.4709e-02,\n",
              "           -2.8370e-01,  2.0194e-01],\n",
              "          [ 7.7180e-02,  4.9541e-01,  2.5133e-01,  ...,  3.2976e-01,\n",
              "           -1.4760e-01, -1.5904e-01]],\n",
              " \n",
              "         [[ 1.8435e-01, -2.9391e-02, -9.9502e-02,  ..., -4.8437e-02,\n",
              "            4.1849e-01,  3.3692e-01],\n",
              "          [ 3.9370e-01, -2.4815e-01, -2.5161e-03,  ...,  1.4642e-01,\n",
              "            6.1006e-01,  4.4373e-01],\n",
              "          [ 4.7847e-01, -4.2712e-01, -9.8788e-02,  ..., -9.8158e-02,\n",
              "           -2.7912e-02,  4.9111e-01],\n",
              "          ...,\n",
              "          [ 9.7804e-02,  1.3797e-01, -2.4505e-02,  ...,  9.4346e-02,\n",
              "           -7.9032e-03, -1.6063e-01],\n",
              "          [ 2.2560e-01,  1.0635e-01,  2.7368e-02,  ...,  1.6029e-01,\n",
              "            1.3249e-01,  3.1021e-02],\n",
              "          [ 7.5466e-02,  1.7611e-01, -1.1722e-01,  ...,  2.5758e-01,\n",
              "            1.4042e-01, -4.6080e-02]]]),)"
            ]
          },
          "metadata": {
            "tags": []
          },
          "execution_count": 55
        }
      ]
    },
    {
      "cell_type": "markdown",
      "metadata": {
        "id": "utHOqdfGTT7c",
        "colab_type": "text"
      },
      "source": [
        "#### Classification "
      ]
    },
    {
      "cell_type": "markdown",
      "metadata": {
        "id": "ogzNjw9NTT7e",
        "colab_type": "text"
      },
      "source": [
        "Get features  "
      ]
    },
    {
      "cell_type": "code",
      "metadata": {
        "id": "4r4mEl48TT7f",
        "colab_type": "code",
        "colab": {}
      },
      "source": [
        "features = last_hidden_states[0][:,0,:].numpy()"
      ],
      "execution_count": 56,
      "outputs": []
    },
    {
      "cell_type": "code",
      "metadata": {
        "id": "fZeuiEbwTT7l",
        "colab_type": "code",
        "colab": {}
      },
      "source": [
        "labels = subdata[\"Label\"] "
      ],
      "execution_count": 57,
      "outputs": []
    },
    {
      "cell_type": "markdown",
      "metadata": {
        "id": "oaYdLDc4TT7s",
        "colab_type": "text"
      },
      "source": [
        "Train Test Split "
      ]
    },
    {
      "cell_type": "code",
      "metadata": {
        "id": "SdLstLYcTT7t",
        "colab_type": "code",
        "colab": {}
      },
      "source": [
        "train_features, test_features, train_labels, test_labels = train_test_split(features, labels)"
      ],
      "execution_count": 58,
      "outputs": []
    },
    {
      "cell_type": "markdown",
      "metadata": {
        "id": "65Nhyg_eTT73",
        "colab_type": "text"
      },
      "source": [
        "Logistic Regression (Can try Decsion Tree, Random Forest, etc.) "
      ]
    },
    {
      "cell_type": "code",
      "metadata": {
        "id": "E2tBD5kATT74",
        "colab_type": "code",
        "colab": {
          "base_uri": "https://localhost:8080/",
          "height": 104
        },
        "outputId": "588d62b7-2e53-4580-9ca6-af4517bbbff9"
      },
      "source": [
        "log = LogisticRegression()\n",
        "log.fit(train_features, train_labels)"
      ],
      "execution_count": 59,
      "outputs": [
        {
          "output_type": "execute_result",
          "data": {
            "text/plain": [
              "LogisticRegression(C=1.0, class_weight=None, dual=False, fit_intercept=True,\n",
              "                   intercept_scaling=1, l1_ratio=None, max_iter=100,\n",
              "                   multi_class='auto', n_jobs=None, penalty='l2',\n",
              "                   random_state=None, solver='lbfgs', tol=0.0001, verbose=0,\n",
              "                   warm_start=False)"
            ]
          },
          "metadata": {
            "tags": []
          },
          "execution_count": 59
        }
      ]
    },
    {
      "cell_type": "markdown",
      "metadata": {
        "id": "jQv82xM_TT8B",
        "colab_type": "text"
      },
      "source": [
        "Accuracy "
      ]
    },
    {
      "cell_type": "code",
      "metadata": {
        "id": "LrOFdiRPTT8D",
        "colab_type": "code",
        "colab": {
          "base_uri": "https://localhost:8080/",
          "height": 34
        },
        "outputId": "7f21cd4a-7fb7-4f96-a973-c69b7db18fc5"
      },
      "source": [
        "log.score(test_features, test_labels)"
      ],
      "execution_count": 60,
      "outputs": [
        {
          "output_type": "execute_result",
          "data": {
            "text/plain": [
              "0.8325991189427313"
            ]
          },
          "metadata": {
            "tags": []
          },
          "execution_count": 60
        }
      ]
    }
  ]
}